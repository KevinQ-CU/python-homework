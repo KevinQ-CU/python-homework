{
 "cells": [
  {
   "cell_type": "code",
   "execution_count": 136,
   "metadata": {},
   "outputs": [
    {
     "name": "stdout",
     "output_type": "stream",
     "text": [
      "my current working dictionary is C:\\Users\\qiuyu\\python-homework\\Pybank\n",
      "['Jan-10', 'Feb-10', 'Mar-10', 'Apr-10', 'May-10', 'Jun-10', 'Jul-10', 'Aug-10', 'Sep-10', 'Oct-10', 'Nov-10', 'Dec-10', 'Jan-11', 'Feb-11', 'Mar-11', 'Apr-11', 'May-11', 'Jun-11', 'Jul-11', 'Aug-11', 'Sep-11', 'Oct-11', 'Nov-11', 'Dec-11', 'Jan-12', 'Feb-12', 'Mar-12', 'Apr-12', 'May-12', 'Jun-12', 'Jul-12', 'Aug-12', 'Sep-12', 'Oct-12', 'Nov-12', 'Dec-12', 'Jan-13', 'Feb-13', 'Mar-13', 'Apr-13', 'May-13', 'Jun-13', 'Jul-13', 'Aug-13', 'Sep-13', 'Oct-13', 'Nov-13', 'Dec-13', 'Jan-14', 'Feb-14', 'Mar-14', 'Apr-14', 'May-14', 'Jun-14', 'Jul-14', 'Aug-14', 'Sep-14', 'Oct-14', 'Nov-14', 'Dec-14', 'Jan-15', 'Feb-15', 'Mar-15', 'Apr-15', 'May-15', 'Jun-15', 'Jul-15', 'Aug-15', 'Sep-15', 'Oct-15', 'Nov-15', 'Dec-15', 'Jan-16', 'Feb-16', 'Mar-16', 'Apr-16', 'May-16', 'Jun-16', 'Jul-16', 'Aug-16', 'Sep-16', 'Oct-16', 'Nov-16', 'Dec-16', 'Jan-17', 'Feb-17']\n"
     ]
    }
   ],
   "source": [
    "from pathlib import Path\n",
    "import csv\n",
    "print(f\"my current working dictionary is {Path.cwd()}\")\n",
    "csv_file = Path('budget_data.csv')\n",
    "\n",
    "count = 0\n",
    "total_profit_loss = 0\n",
    "difference = 0\n",
    "record = []\n",
    "Profit_Loss_Former = 0\n",
    "\n",
    "with open(csv_file,'r') as csvfile:\n",
    "    csvreader = csv.reader(csvfile,delimiter=\",\")\n",
    "    \n",
    "    csv_header = next(csvreader)\n",
    "    \n",
    "    column_Profit_Loss = [row[1] for row in csvreader]\n",
    "    \n",
    "    total_change = int(column_Profit_Loss[-1]) - int(column_Profit_Loss[0])\n",
    "   \n",
    "with open(csv_file,'r') as csvfile:\n",
    "    csvreader = csv.reader(csvfile,delimiter=\",\")\n",
    "    \n",
    "    csv_header = next(csvreader)   \n",
    "    column_Date = [row[0]for row in csvreader]\n",
    "    print(column_Date)\n",
    "    \n",
    "             \n",
    "with open(csv_file,'r') as csvfile:\n",
    "    csvreader = csv.reader(csvfile,delimiter=\",\")\n",
    "    csv_header = next(csvreader)\n",
    "       \n",
    "    for row in csvreader:\n",
    "        Date = row[0]\n",
    "        Profit_Loss = int(row[1])\n",
    "        count += 1\n",
    "        total_profit_loss += Profit_Loss\n",
    "        Profit_Loss_Difference = Profit_Loss - Profit_Loss_Former\n",
    "        Profit_Loss_Former = Profit_Loss\n",
    "        difference = Profit_Loss_Difference\n",
    "        record.append(difference)\n",
    " \n",
    "\n",
    "    average_change = round(total_change/(count-1),2)\n",
    "    \n",
    "output_path = 'main.py'\n",
    "\n",
    "with open(output_path, 'w') as file:\n",
    "    file.write(f\"Total Months:{count}\"),\n",
    "    \n",
    "    file.write(f\"Total${total_profit_loss}\"),\n",
    "    \n",
    "    file.write(f\"Average Change:${average_change}\") ,  \n",
    "    \n",
    "    file.write(f\"Greatest Increase in Profits:{column_Date[record.index(max(record))]} (${max(record)})\"), \n",
    "    \n",
    "    file.write(f\"Greatest decrease in Profits:{column_Date[record.index(min(record))]} (${min(record)})\")\n",
    "\n",
    "   \n",
    "        \n",
    "        \n",
    "        \n"
   ]
  },
  {
   "cell_type": "code",
   "execution_count": null,
   "metadata": {},
   "outputs": [],
   "source": []
  },
  {
   "cell_type": "code",
   "execution_count": null,
   "metadata": {},
   "outputs": [],
   "source": []
  },
  {
   "cell_type": "code",
   "execution_count": null,
   "metadata": {},
   "outputs": [],
   "source": []
  }
 ],
 "metadata": {
  "kernelspec": {
   "display_name": "Python 3",
   "language": "python",
   "name": "python3"
  },
  "language_info": {
   "codemirror_mode": {
    "name": "ipython",
    "version": 3
   },
   "file_extension": ".py",
   "mimetype": "text/x-python",
   "name": "python",
   "nbconvert_exporter": "python",
   "pygments_lexer": "ipython3",
   "version": "3.7.4"
  }
 },
 "nbformat": 4,
 "nbformat_minor": 4
}
