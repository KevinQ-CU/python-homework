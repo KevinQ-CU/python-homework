{
 "cells": [
  {
   "cell_type": "code",
   "execution_count": 137,
   "metadata": {},
   "outputs": [
    {
     "name": "stdout",
     "output_type": "stream",
     "text": [
      "my current working dictionary is C:\\Users\\qiuyu\\python-homework\\Pybank\n"
     ]
    }
   ],
   "source": [
    "from pathlib import Path\n",
    "import csv\n",
    "print(f\"my current working dictionary is {Path.cwd()}\")\n",
    "csv_file = Path('budget_data.csv')\n",
    "\n",
    "count = 0\n",
    "total_profit_loss = 0\n",
    "difference = 0\n",
    "record = []\n",
    "Profit_Loss_Former = 0\n",
    "\n",
    "with open(csv_file,'r') as csvfile:\n",
    "    csvreader = csv.reader(csvfile,delimiter=\",\")\n",
    "    \n",
    "    csv_header = next(csvreader)\n",
    "    \n",
    "    column_Profit_Loss = [row[1] for row in csvreader]\n",
    "    \n",
    "    total_change = int(column_Profit_Loss[-1]) - int(column_Profit_Loss[0])\n",
    "   \n",
    "with open(csv_file,'r') as csvfile:\n",
    "    csvreader = csv.reader(csvfile,delimiter=\",\")\n",
    "    \n",
    "    csv_header = next(csvreader)   \n",
    "    column_Date = [row[0]for row in csvreader]\n",
    "    \n",
    "    \n",
    "             \n",
    "with open(csv_file,'r') as csvfile:\n",
    "    csvreader = csv.reader(csvfile,delimiter=\",\")\n",
    "    csv_header = next(csvreader)\n",
    "       \n",
    "    for row in csvreader:\n",
    "        Date = row[0]\n",
    "        Profit_Loss = int(row[1])\n",
    "        count += 1\n",
    "        total_profit_loss += Profit_Loss\n",
    "        Profit_Loss_Difference = Profit_Loss - Profit_Loss_Former\n",
    "        Profit_Loss_Former = Profit_Loss\n",
    "        difference = Profit_Loss_Difference\n",
    "        record.append(difference)\n",
    " \n",
    "\n",
    "    average_change = round(total_change/(count-1),2)\n",
    "    \n",
    "output_path = 'main.py'\n",
    "\n",
    "with open(output_path, 'w') as file:\n",
    "    file.write(f\"Total Months:{count}\"),\n",
    "    \n",
    "    file.write(f\"Total${total_profit_loss}\"),\n",
    "    \n",
    "    file.write(f\"Average Change:${average_change}\") ,  \n",
    "    \n",
    "    file.write(f\"Greatest Increase in Profits:{column_Date[record.index(max(record))]} (${max(record)})\"), \n",
    "    \n",
    "    file.write(f\"Greatest decrease in Profits:{column_Date[record.index(min(record))]} (${min(record)})\")\n",
    "\n",
    "   \n",
    "        \n",
    "        \n",
    "        \n"
   ]
  },
  {
   "cell_type": "code",
   "execution_count": null,
   "metadata": {},
   "outputs": [],
   "source": []
  },
  {
   "cell_type": "code",
   "execution_count": null,
   "metadata": {},
   "outputs": [],
   "source": []
  },
  {
   "cell_type": "code",
   "execution_count": null,
   "metadata": {},
   "outputs": [],
   "source": []
  }
 ],
 "metadata": {
  "kernelspec": {
   "display_name": "Python 3",
   "language": "python",
   "name": "python3"
  },
  "language_info": {
   "codemirror_mode": {
    "name": "ipython",
    "version": 3
   },
   "file_extension": ".py",
   "mimetype": "text/x-python",
   "name": "python",
   "nbconvert_exporter": "python",
   "pygments_lexer": "ipython3",
   "version": "3.7.4"
  }
 },
 "nbformat": 4,
 "nbformat_minor": 4
}
